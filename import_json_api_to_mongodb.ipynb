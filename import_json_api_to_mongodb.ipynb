{
 "cells": [
  {
   "cell_type": "code",
   "execution_count": 71,
   "id": "e3ed8331",
   "metadata": {},
   "outputs": [],
   "source": [
    "import pandas as pd\n",
    "import json\n",
    "import requests\n",
    "from pymongo import MongoClient"
   ]
  },
  {
   "cell_type": "code",
   "execution_count": 72,
   "id": "be941ac1",
   "metadata": {},
   "outputs": [],
   "source": [
    "# Making Connection with mongodb database\n",
    "def database_connection(db_name):\n",
    "   client = MongoClient(\"mongodb://%s:%s@127.0.0.1\" % (\"dap\", \"dap\"))\n",
    "# database\n",
    "   db = client['test_database']\n",
    "   return db\n"
   ]
  },
  {
   "cell_type": "code",
   "execution_count": 73,
   "id": "a9ea2f1e",
   "metadata": {},
   "outputs": [],
   "source": [
    "#get the json file and create dataframe\n",
    "def json_to_mongodb(disease_url):\n",
    "    disease_data = requests.get(disease_url).json()\n",
    "    db = database_connection(\"test_database\")\n",
    "    db.asthma.insert_many(disease_data)\n",
    "    return 0"
   ]
  },
  {
   "cell_type": "code",
   "execution_count": 74,
   "id": "a6a987a7",
   "metadata": {},
   "outputs": [],
   "source": [
    "def extract(collection):\n",
    "    db = database_connection(\"test_database\")\n",
    "    asthma = pd.DataFrame(list(db[collection].find()))\n",
    "    return  asthma"
   ]
  },
  {
   "cell_type": "code",
   "execution_count": 75,
   "id": "57f46fbc",
   "metadata": {},
   "outputs": [],
   "source": [
    "try:\n",
    "    json_to_mongodb(\"https://chronicdata.cdc.gov/resource/us8e-ubyj.json?yearstart=2020\")\n",
    "    mongo_asthma_df = extract(\"asthma\")\n",
    "except Exception as error:\n",
    "    print(error)"
   ]
  },
  {
   "cell_type": "code",
   "execution_count": null,
   "id": "43e6e25e",
   "metadata": {},
   "outputs": [],
   "source": []
  }
 ],
 "metadata": {
  "kernelspec": {
   "display_name": "Python 3 (ipykernel)",
   "language": "python",
   "name": "python3"
  },
  "language_info": {
   "codemirror_mode": {
    "name": "ipython",
    "version": 3
   },
   "file_extension": ".py",
   "mimetype": "text/x-python",
   "name": "python",
   "nbconvert_exporter": "python",
   "pygments_lexer": "ipython3",
   "version": "3.9.7"
  }
 },
 "nbformat": 4,
 "nbformat_minor": 5
}
